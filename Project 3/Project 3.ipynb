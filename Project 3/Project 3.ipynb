{
 "cells": [
  {
   "cell_type": "code",
   "execution_count": 1,
   "id": "c2a3066d",
   "metadata": {},
   "outputs": [
    {
     "name": "stderr",
     "output_type": "stream",
     "text": [
      "Registered S3 methods overwritten by 'ggplot2':\n",
      "  method         from \n",
      "  [.quosures     rlang\n",
      "  c.quosures     rlang\n",
      "  print.quosures rlang\n",
      "Registered S3 method overwritten by 'rvest':\n",
      "  method            from\n",
      "  read_xml.response xml2\n",
      "-- Attaching packages --------------------------------------- tidyverse 1.2.1 --\n",
      "v ggplot2 3.1.1       v purrr   0.3.2  \n",
      "v tibble  2.1.1       v dplyr   0.8.0.1\n",
      "v tidyr   0.8.3       v stringr 1.4.0  \n",
      "v readr   1.3.1       v forcats 0.4.0  \n",
      "-- Conflicts ------------------------------------------ tidyverse_conflicts() --\n",
      "x dplyr::filter() masks stats::filter()\n",
      "x dplyr::lag()    masks stats::lag()\n"
     ]
    }
   ],
   "source": [
    "library(\"tidyverse\")"
   ]
  },
  {
   "cell_type": "code",
   "execution_count": 2,
   "id": "2b22a88d",
   "metadata": {},
   "outputs": [
    {
     "name": "stderr",
     "output_type": "stream",
     "text": [
      "Warning message:\n",
      "\"package 'DT' was built under R version 3.6.3\""
     ]
    }
   ],
   "source": [
    "library(\"DT\")"
   ]
  },
  {
   "cell_type": "code",
   "execution_count": 3,
   "id": "f6f48192",
   "metadata": {},
   "outputs": [
    {
     "ename": "ERROR",
     "evalue": "Error: 'COVID-19_cases_plus_census.csv' does not exist in current working directory ('C:/Users/henry/R Projects/DM/Project 3').\n",
     "output_type": "error",
     "traceback": [
      "Error: 'COVID-19_cases_plus_census.csv' does not exist in current working directory ('C:/Users/henry/R Projects/DM/Project 3').\nTraceback:\n",
      "1. read_csv(\"COVID-19_cases_plus_census.csv\")",
      "2. read_delimited(file, tokenizer, col_names = col_names, col_types = col_types, \n .     locale = locale, skip = skip, skip_empty_rows = skip_empty_rows, \n .     comment = comment, n_max = n_max, guess_max = guess_max, \n .     progress = progress)",
      "3. standardise_path(file)",
      "4. check_path(path)",
      "5. stop(\"'\", path, \"' does not exist\", if (!is_absolute_path(path)) paste0(\" in current working directory ('\", \n .     getwd(), \"')\"), \".\", call. = FALSE)"
     ]
    }
   ],
   "source": [
    "cases <- read_csv(\"COVID-19_cases_plus_census.csv\")"
   ]
  },
  {
   "cell_type": "code",
   "execution_count": null,
   "id": "8e07b860",
   "metadata": {},
   "outputs": [],
   "source": [
    "cases <- cases %>% mutate_if(is.character, factor)\n",
    "dim(cases)"
   ]
  },
  {
   "cell_type": "code",
   "execution_count": null,
   "id": "02a94a68",
   "metadata": {},
   "outputs": [],
   "source": [
    "cases <- cases %>% filter(confirmed_cases > 0) \n",
    "\n",
    "cases <- cases %>% \n",
    "  arrange(desc(confirmed_cases)) #%>%    \n",
    "  #select(county_name, state, confirmed_cases, deaths, total_pop, median_income, median_age)\n",
    "cases <- cases %>% mutate(\n",
    "  cases_per_10000 = confirmed_cases/total_pop*10000, \n",
    "  deaths_per_10000 = deaths/total_pop*10000, \n",
    "  death_per_case = deaths/confirmed_cases)\n",
    "\n",
    "cases"
   ]
  },
  {
   "cell_type": "code",
   "execution_count": null,
   "id": "a2117181",
   "metadata": {},
   "outputs": [],
   "source": [
    "cases_sel <- cases %>% select(county_name, state, total_pop,\n",
    "  nonfamily_households, median_year_structure_built,        \n",
    "  female_pop, median_age, white_pop, \n",
    "  black_pop, asian_pop, hispanic_pop, amerindian_pop,\n",
    "  commuters_by_public_transportation, \n",
    "  households, median_income, housing_units, \n",
    "  vacant_housing_units, \n",
    "  percent_income_spent_on_rent,\n",
    "  employed_pop, unemployed_pop, \n",
    "  in_school, in_undergrad_college,\n",
    "  cases_per_10000, deaths_per_10000, death_per_case)\n",
    "\n",
    "# normalize by population \n",
    "cases_sel <- cases_sel %>% mutate(\n",
    "  nonfamily_households = nonfamily_households / total_pop, \n",
    "  female_pop = female_pop / total_pop,\n",
    "  white_pop = white_pop / total_pop, \n",
    "  black_pop = black_pop / total_pop, \n",
    "  asian_pop = asian_pop / total_pop, \n",
    "  hispanic_pop = hispanic_pop / total_pop, \n",
    "  amerindian_pop = amerindian_pop / total_pop,\n",
    "  commuters_by_public_transportation = commuters_by_public_transportation/ total_pop, \n",
    "  households = households / total_pop, \n",
    "  housing_units = housing_units / total_pop, \n",
    "  vacant_housing_units = vacant_housing_units / total_pop, \n",
    "  employed_pop = employed_pop / total_pop, \n",
    "  unemployed_pop = unemployed_pop / total_pop, \n",
    "  in_school = in_school / total_pop, \n",
    "  in_undergrad_college = in_undergrad_college / total_pop \n",
    "  )\n",
    "\n",
    "cases_sel"
   ]
  },
  {
   "cell_type": "code",
   "execution_count": null,
   "id": "9d0e338c",
   "metadata": {},
   "outputs": [],
   "source": [
    "table(complete.cases(cases_sel))"
   ]
  },
  {
   "cell_type": "code",
   "execution_count": 4,
   "id": "045c3e9b",
   "metadata": {},
   "outputs": [
    {
     "ename": "ERROR",
     "evalue": "Error in str(cases_sel): object 'cases_sel' not found\n",
     "output_type": "error",
     "traceback": [
      "Error in str(cases_sel): object 'cases_sel' not found\nTraceback:\n",
      "1. str(cases_sel)"
     ]
    }
   ],
   "source": [
    "str(cases_sel)"
   ]
  },
  {
   "cell_type": "code",
   "execution_count": 5,
   "id": "523a4d43",
   "metadata": {},
   "outputs": [
    {
     "name": "stderr",
     "output_type": "stream",
     "text": [
      "Warning message:\n",
      "\"package 'seriation' was built under R version 3.6.3\""
     ]
    },
    {
     "ename": "ERROR",
     "evalue": "Error in eval(lhs, parent, parent): object 'cases_sel' not found\n",
     "output_type": "error",
     "traceback": [
      "Error in eval(lhs, parent, parent): object 'cases_sel' not found\nTraceback:\n",
      "1. cor(cases_sel %>% select_if(is.numeric) %>% na.omit)",
      "2. is.data.frame(x)",
      "3. cases_sel %>% select_if(is.numeric) %>% na.omit",
      "4. eval(lhs, parent, parent)",
      "5. eval(lhs, parent, parent)"
     ]
    }
   ],
   "source": [
    "library(seriation)\n",
    "cm <- cor(cases_sel %>% select_if(is.numeric) %>% na.omit)"
   ]
  },
  {
   "cell_type": "code",
   "execution_count": 6,
   "id": "502ed2d6",
   "metadata": {},
   "outputs": [
    {
     "ename": "ERROR",
     "evalue": "Error in as.vector(x, mode): cannot coerce type 'closure' to vector of type 'any'\n",
     "output_type": "error",
     "traceback": [
      "Error in as.vector(x, mode): cannot coerce type 'closure' to vector of type 'any'\nTraceback:\n",
      "1. hmap(cm, margins = c(14, 14))",
      "2. as.matrix(x)",
      "3. as.matrix.default(x)",
      "4. array(x, c(length(x), 1L), if (!is.null(names(x))) list(names(x), \n .     NULL) else NULL)",
      "5. as.vector(data)"
     ]
    }
   ],
   "source": [
    "hmap(cm, margins = c(14,14))"
   ]
  },
  {
   "cell_type": "code",
   "execution_count": null,
   "id": "369af648",
   "metadata": {},
   "outputs": [],
   "source": [
    "cases_sel <- cases_sel %>% mutate(bad = as.factor(deaths_per_10000 > 10))"
   ]
  },
  {
   "cell_type": "code",
   "execution_count": null,
   "id": "b192e757",
   "metadata": {},
   "outputs": [],
   "source": [
    "cases_sel %>% pull(bad) %>% table()"
   ]
  },
  {
   "cell_type": "code",
   "execution_count": null,
   "id": "5ed9fa4c",
   "metadata": {},
   "outputs": [],
   "source": [
    "cases_sel %>% group_by(state) %>% \n",
    "  summarize(bad_pct = sum(bad == TRUE)/n()) %>%\n",
    "  arrange(desc(bad_pct))"
   ]
  },
  {
   "cell_type": "code",
   "execution_count": null,
   "id": "210fac79",
   "metadata": {},
   "outputs": [],
   "source": [
    "cases_train <- cases_sel %>% filter(state %in% c(\"TX\", \"CA\", \"FL\", \"NY\"))\n",
    "cases_train %>% pull(bad) %>% table()"
   ]
  },
  {
   "cell_type": "code",
   "execution_count": null,
   "id": "010a0bbe",
   "metadata": {},
   "outputs": [],
   "source": [
    "cases_test <-  cases_sel %>% filter(!(state %in% c(\"TX\", \"CA\", \"FL\", \"NY\")))\n",
    "cases_test %>% pull(bad) %>% table()"
   ]
  },
  {
   "cell_type": "code",
   "execution_count": null,
   "id": "d3fa5199",
   "metadata": {},
   "outputs": [],
   "source": [
    "counties <- as_tibble(map_data(\"county\"))\n",
    "counties <- counties %>% \n",
    "  rename(c(county = subregion, state = region)) %>%\n",
    "  mutate(state = state.abb[match(state, tolower(state.name))]) %>%\n",
    "  select(state, county, long, lat, group)\n",
    "counties  "
   ]
  },
  {
   "cell_type": "code",
   "execution_count": null,
   "id": "b2a4156e",
   "metadata": {},
   "outputs": [],
   "source": [
    "counties_all <- counties %>% left_join(cases_train %>% \n",
    "    mutate(county = county_name %>% str_to_lower() %>% \n",
    "        str_replace('\\\\s+county\\\\s*$', '')))"
   ]
  },
  {
   "cell_type": "code",
   "execution_count": null,
   "id": "529aa261",
   "metadata": {},
   "outputs": [],
   "source": [
    "ggplot(counties_all, aes(long, lat)) + \n",
    "  geom_polygon(aes(group = group, fill = bad), color = \"black\", size = 0.1) + \n",
    "    coord_quickmap() + scale_fill_manual(values = c('TRUE' = 'red', 'FALSE' = 'grey'))"
   ]
  },
  {
   "cell_type": "code",
   "execution_count": null,
   "id": "60cd5d43",
   "metadata": {},
   "outputs": [],
   "source": [
    "library(FSelector)\n",
    "cases_train %>%  chi.squared(bad ~ ., data = .) %>% \n",
    "  arrange(desc(attr_importance)) %>% head()"
   ]
  },
  {
   "cell_type": "code",
   "execution_count": null,
   "id": "2446d449",
   "metadata": {},
   "outputs": [],
   "source": [
    "cases_train <- cases_train %>% select(-c(deaths_per_10000))\n",
    "cases_train %>%  chi.squared(bad ~ ., data = .) %>% \n",
    "  arrange(desc(attr_importance)) %>% head()"
   ]
  },
  {
   "cell_type": "code",
   "execution_count": null,
   "id": "0518628a",
   "metadata": {},
   "outputs": [],
   "source": [
    "cases_train <- cases_train %>% select(-death_per_case, -cases_per_10000)\n",
    "\n",
    "cases_train %>%  chi.squared(bad ~ ., data = .) %>% \n",
    "  arrange(desc(attr_importance)) %>% head(n = 10)"
   ]
  },
  {
   "cell_type": "code",
   "execution_count": null,
   "id": "b5c688c2",
   "metadata": {},
   "outputs": [],
   "source": [
    "library(caret)"
   ]
  },
  {
   "cell_type": "code",
   "execution_count": null,
   "id": "7ba75bf5",
   "metadata": {},
   "outputs": [],
   "source": [
    "fit <- cases_train %>%\n",
    "  train(bad ~ . - county_name - state,\n",
    "    data = . ,\n",
    "    #method = \"rpart\",\n",
    "    method = \"rf\",\n",
    "    #method = \"nb\",\n",
    "    trControl = trainControl(method = \"cv\", number = 10)\n",
    "    )\n",
    "fit"
   ]
  },
  {
   "cell_type": "code",
   "execution_count": null,
   "id": "458cce81",
   "metadata": {},
   "outputs": [],
   "source": [
    "#library(rpart.plot)\n",
    "#rpart.plot(fit$finalModel, extra = 2)\n",
    "\n",
    "varImp(fit)"
   ]
  },
  {
   "cell_type": "code",
   "execution_count": null,
   "id": "3e51802c",
   "metadata": {},
   "outputs": [],
   "source": [
    "cases_test <- cases_test %>% na.omit"
   ]
  },
  {
   "cell_type": "code",
   "execution_count": null,
   "id": "ac6f9d0a",
   "metadata": {},
   "outputs": [],
   "source": [
    "cases_test$bad_predicted <- predict(fit, cases_test)"
   ]
  },
  {
   "cell_type": "code",
   "execution_count": null,
   "id": "a56e7985",
   "metadata": {},
   "outputs": [],
   "source": [
    "counties_test <- counties %>% left_join(cases_test %>% \n",
    "    mutate(county = county_name %>% str_to_lower() %>% \n",
    "        str_replace('\\\\s+county\\\\s*$', '')))"
   ]
  },
  {
   "cell_type": "code",
   "execution_count": null,
   "id": "e6f42f2c",
   "metadata": {},
   "outputs": [],
   "source": [
    "ggplot(counties_test, aes(long, lat)) + \n",
    "  geom_polygon(aes(group = group, fill = bad), color = \"black\", size = 0.1) + \n",
    "  coord_quickmap() + \n",
    "  scale_fill_manual(values = c('TRUE' = 'red', 'FALSE' = 'grey'))"
   ]
  },
  {
   "cell_type": "code",
   "execution_count": null,
   "id": "9ccebe24",
   "metadata": {},
   "outputs": [],
   "source": [
    "ggplot(counties_test, aes(long, lat)) + \n",
    "  geom_polygon(aes(group = group, fill = bad_predicted), color = \"black\", size = 0.1) + \n",
    "    coord_quickmap() + \n",
    "  scale_fill_manual(values = c('TRUE' = 'red', 'FALSE' = 'grey'))"
   ]
  },
  {
   "cell_type": "code",
   "execution_count": null,
   "id": "4e822ef5",
   "metadata": {},
   "outputs": [],
   "source": [
    "confusionMatrix(data = cases_test$bad_predicted, ref = cases_test$bad)"
   ]
  }
 ],
 "metadata": {
  "kernelspec": {
   "display_name": "R",
   "language": "R",
   "name": "ir"
  },
  "language_info": {
   "codemirror_mode": "r",
   "file_extension": ".r",
   "mimetype": "text/x-r-source",
   "name": "R",
   "pygments_lexer": "r",
   "version": "3.6.1"
  }
 },
 "nbformat": 4,
 "nbformat_minor": 5
}
